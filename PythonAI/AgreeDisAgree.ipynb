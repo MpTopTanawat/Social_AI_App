{
 "cells": [
  {
   "cell_type": "code",
   "execution_count": 1,
   "metadata": {},
   "outputs": [],
   "source": [
    "# !pip install deepcut\n",
    "# !pip install git+git://github.com/rkcosmos/deepcut.git\n",
    "# !pip install deepcut==0.6.1\n",
    "\n",
    "# dev version\n",
    "# !pip install https://github.com/PyThaiNLP/pythainlp/archive/dev.zip\n",
    "\n",
    "# release version \n",
    "# ! pip install pythainlp\n",
    "\n",
    "# !pip install epitran\n",
    "# !pip install sklearn_crfsuite\n",
    "# !pip install tensorflow deepcut\n",
    "# !pip install attacut\n",
    "\n",
    "# !pip install tensorflow\n",
    "# !pip install keras\n",
    "# !pip install deepcut"
   ]
  },
  {
   "cell_type": "code",
   "execution_count": 2,
   "metadata": {},
   "outputs": [],
   "source": [
    "#https://sites.google.com/view/geeky-traveller/app-development/flutter/how-to-link-python-script-py-file-with-flutter-app\n",
    "#https://github.com/rkcosmos/deepcut\n",
    "\n",
    "from pyexpat import model\n",
    "from re import S\n",
    "from urllib import response\n",
    "from flask import Flask , request , jsonify\n",
    "import requests\n",
    "# import deepcut\n",
    "# from deepcut import DeepcutTokenizer\n",
    "try:\n",
    "    %tensorflow_version 2.x\n",
    "except:\n",
    "    pass\n",
    "\n"
   ]
  },
  {
   "cell_type": "code",
   "execution_count": 3,
   "metadata": {},
   "outputs": [
    {
     "data": {
      "text/plain": [
       "'3.0.5'"
      ]
     },
     "execution_count": 3,
     "metadata": {},
     "output_type": "execute_result"
    }
   ],
   "source": [
    "%reload_ext autoreload\n",
    "%autoreload 2\n",
    "%matplotlib inline\n",
    "\n",
    "from pythainlp.tokenize import word_tokenize\n",
    "from gensim.models import KeyedVectors\n",
    "import numpy as np\n",
    "\n",
    "from sklearn.manifold import TSNE\n",
    "import matplotlib.pyplot as plt\n",
    "import matplotlib.font_manager as fm\n",
    "\n",
    "import dill as pickle\n",
    "import pandas as pd\n",
    "#load into gensim\n",
    "# model = KeyedVectors.load_word2vec_format(f'{model_path}thai2vec.bin',binary=True)\n",
    "from pythainlp import word_vector\n",
    "\n",
    "import warnings\n",
    "warnings.filterwarnings('ignore')\n",
    "\n",
    "from pythainlp import word_tokenize\n",
    "\n",
    "import pythainlp\n",
    "\n",
    "pythainlp.__version__"
   ]
  },
  {
   "cell_type": "code",
   "execution_count": 4,
   "metadata": {
    "scrolled": true
   },
   "outputs": [
    {
     "name": "stdout",
     "output_type": "stream",
     "text": [
      " * Serving Flask app \"__main__\" (lazy loading)\n",
      " * Environment: production\n",
      "   WARNING: This is a development server. Do not use it in a production deployment.\n",
      "   Use a production WSGI server instead.\n",
      " * Debug mode: off\n"
     ]
    },
    {
     "name": "stderr",
     "output_type": "stream",
     "text": [
      " * Running on http://127.0.0.1:5000/ (Press CTRL+C to quit)\n",
      "[2022-05-08 22:02:12,550] ERROR in app: Exception on /api [GET]\n",
      "Traceback (most recent call last):\n",
      "  File \"C:\\Users\\MpTop Tanawat\\Anaconda3\\Anaconda3\\lib\\site-packages\\flask\\app.py\", line 2447, in wsgi_app\n",
      "    response = self.full_dispatch_request()\n",
      "  File \"C:\\Users\\MpTop Tanawat\\Anaconda3\\Anaconda3\\lib\\site-packages\\flask\\app.py\", line 1952, in full_dispatch_request\n",
      "    rv = self.handle_user_exception(e)\n",
      "  File \"C:\\Users\\MpTop Tanawat\\Anaconda3\\Anaconda3\\lib\\site-packages\\flask\\app.py\", line 1821, in handle_user_exception\n",
      "    reraise(exc_type, exc_value, tb)\n",
      "  File \"C:\\Users\\MpTop Tanawat\\Anaconda3\\Anaconda3\\lib\\site-packages\\flask\\_compat.py\", line 39, in reraise\n",
      "    raise value\n",
      "  File \"C:\\Users\\MpTop Tanawat\\Anaconda3\\Anaconda3\\lib\\site-packages\\flask\\app.py\", line 1950, in full_dispatch_request\n",
      "    rv = self.dispatch_request()\n",
      "  File \"C:\\Users\\MpTop Tanawat\\Anaconda3\\Anaconda3\\lib\\site-packages\\flask\\app.py\", line 1936, in dispatch_request\n",
      "    return self.view_functions[rule.endpoint](**req.view_args)\n",
      "  File \"<ipython-input-4-dc96e2ab648e>\", line 17, in agree_disagree\n",
      "    average = model.most_similar_cosmul(positive=[temp], negative=[])\n",
      "  File \"C:\\Users\\MpTop Tanawat\\Anaconda3\\Anaconda3\\lib\\site-packages\\gensim\\models\\keyedvectors.py\", line 992, in most_similar_cosmul\n",
      "    positive = [\n",
      "  File \"C:\\Users\\MpTop Tanawat\\Anaconda3\\Anaconda3\\lib\\site-packages\\gensim\\models\\keyedvectors.py\", line 993, in <listcomp>\n",
      "    self.get_vector(word, norm=True) if isinstance(word, str) else word\n",
      "  File \"C:\\Users\\MpTop Tanawat\\Anaconda3\\Anaconda3\\lib\\site-packages\\gensim\\models\\keyedvectors.py\", line 438, in get_vector\n",
      "    index = self.get_index(key)\n",
      "  File \"C:\\Users\\MpTop Tanawat\\Anaconda3\\Anaconda3\\lib\\site-packages\\gensim\\models\\keyedvectors.py\", line 412, in get_index\n",
      "    raise KeyError(f\"Key '{key}' not present\")\n",
      "KeyError: \"Key 'Hi' not present\"\n",
      "127.0.0.1 - - [08/May/2022 22:02:12] \"\u001b[35m\u001b[1mGET /api?Query=Hi HTTP/1.1\u001b[0m\" 500 -\n",
      "127.0.0.1 - - [08/May/2022 22:02:19] \"\u001b[37mGET /api?Query=สวัสดี HTTP/1.1\u001b[0m\" 200 -\n",
      "[2022-05-08 22:02:27,401] ERROR in app: Exception on /api [GET]\n",
      "Traceback (most recent call last):\n",
      "  File \"C:\\Users\\MpTop Tanawat\\Anaconda3\\Anaconda3\\lib\\site-packages\\flask\\app.py\", line 2447, in wsgi_app\n",
      "    response = self.full_dispatch_request()\n",
      "  File \"C:\\Users\\MpTop Tanawat\\Anaconda3\\Anaconda3\\lib\\site-packages\\flask\\app.py\", line 1952, in full_dispatch_request\n",
      "    rv = self.handle_user_exception(e)\n",
      "  File \"C:\\Users\\MpTop Tanawat\\Anaconda3\\Anaconda3\\lib\\site-packages\\flask\\app.py\", line 1821, in handle_user_exception\n",
      "    reraise(exc_type, exc_value, tb)\n",
      "  File \"C:\\Users\\MpTop Tanawat\\Anaconda3\\Anaconda3\\lib\\site-packages\\flask\\_compat.py\", line 39, in reraise\n",
      "    raise value\n",
      "  File \"C:\\Users\\MpTop Tanawat\\Anaconda3\\Anaconda3\\lib\\site-packages\\flask\\app.py\", line 1950, in full_dispatch_request\n",
      "    rv = self.dispatch_request()\n",
      "  File \"C:\\Users\\MpTop Tanawat\\Anaconda3\\Anaconda3\\lib\\site-packages\\flask\\app.py\", line 1936, in dispatch_request\n",
      "    return self.view_functions[rule.endpoint](**req.view_args)\n",
      "  File \"<ipython-input-4-dc96e2ab648e>\", line 17, in agree_disagree\n",
      "    average = model.most_similar_cosmul(positive=[temp], negative=[])\n",
      "  File \"C:\\Users\\MpTop Tanawat\\Anaconda3\\Anaconda3\\lib\\site-packages\\gensim\\models\\keyedvectors.py\", line 992, in most_similar_cosmul\n",
      "    positive = [\n",
      "  File \"C:\\Users\\MpTop Tanawat\\Anaconda3\\Anaconda3\\lib\\site-packages\\gensim\\models\\keyedvectors.py\", line 993, in <listcomp>\n",
      "    self.get_vector(word, norm=True) if isinstance(word, str) else word\n",
      "  File \"C:\\Users\\MpTop Tanawat\\Anaconda3\\Anaconda3\\lib\\site-packages\\gensim\\models\\keyedvectors.py\", line 438, in get_vector\n",
      "    index = self.get_index(key)\n",
      "  File \"C:\\Users\\MpTop Tanawat\\Anaconda3\\Anaconda3\\lib\\site-packages\\gensim\\models\\keyedvectors.py\", line 412, in get_index\n",
      "    raise KeyError(f\"Key '{key}' not present\")\n",
      "KeyError: \"Key 'Morning' not present\"\n",
      "127.0.0.1 - - [08/May/2022 22:02:27] \"\u001b[35m\u001b[1mGET /api?Query=Morning HTTP/1.1\u001b[0m\" 500 -\n",
      "127.0.0.1 - - [08/May/2022 22:02:36] \"\u001b[37mGET /api?Query=ว่าไง HTTP/1.1\u001b[0m\" 200 -\n"
     ]
    }
   ],
   "source": [
    "\n",
    "\n",
    "app = Flask(__name__)\n",
    "\n",
    "@app.route('/api',methods=['GET','POST'])\n",
    "\n",
    "def agree_disagree():\n",
    "    \n",
    "\tmodel = word_vector.get_model()\n",
    "\td = {}\n",
    "\td['Query'] = str (request.args['Query'])\n",
    "    # arr = deepcut.tokenize(d['Query'])\n",
    "    \n",
    "\n",
    "\tarr = word_tokenize(d ['Query'], keep_whitespace=False)\n",
    "\tnumber = 0\n",
    "\tkeepValue = 0\n",
    "\tfor temp in arr :\n",
    "\t\taverage = model.most_similar_cosmul(positive=[temp], negative=[])\n",
    "\t\taverage1 = average [0][1]\n",
    "\t\tkeepValue += average1\n",
    "\t\tnumber += 1\n",
    "\tif number != 0 :\n",
    "\t\tkeepValue /= number\n",
    "\td ['value1'] = keepValue\n",
    "\treturn jsonify(d)\n",
    "\n",
    "\n",
    "\n",
    "if __name__ == '__main__':\n",
    "\n",
    "\tapp.run()"
   ]
  },
  {
   "cell_type": "code",
   "execution_count": null,
   "metadata": {},
   "outputs": [],
   "source": []
  }
 ],
 "metadata": {
  "kernelspec": {
   "display_name": "Python 3",
   "language": "python",
   "name": "python3"
  },
  "language_info": {
   "codemirror_mode": {
    "name": "ipython",
    "version": 3
   },
   "file_extension": ".py",
   "mimetype": "text/x-python",
   "name": "python",
   "nbconvert_exporter": "python",
   "pygments_lexer": "ipython3",
   "version": "3.8.5"
  }
 },
 "nbformat": 4,
 "nbformat_minor": 4
}
